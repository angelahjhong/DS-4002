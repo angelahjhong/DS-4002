{
  "nbformat": 4,
  "nbformat_minor": 0,
  "metadata": {
    "colab": {
      "provenance": [],
      "authorship_tag": "ABX9TyNRotFVVEhHHO4XUl0kI5kM",
      "include_colab_link": true
    },
    "kernelspec": {
      "name": "ir",
      "display_name": "R"
    },
    "language_info": {
      "name": "R"
    }
  },
  "cells": [
    {
      "cell_type": "markdown",
      "metadata": {
        "id": "view-in-github",
        "colab_type": "text"
      },
      "source": [
        "<a href=\"https://colab.research.google.com/github/angelahjhong/DS-4002/blob/main/Homework1_rmd.ipynb\" target=\"_parent\"><img src=\"https://colab.research.google.com/assets/colab-badge.svg\" alt=\"Open In Colab\"/></a>"
      ]
    },
    {
      "cell_type": "markdown",
      "source": [
        "Homework 1\n",
        "Angela Hong (jju8kb)"
      ],
      "metadata": {
        "id": "UoF6dAqVEr35"
      }
    },
    {
      "cell_type": "code",
      "execution_count": 31,
      "metadata": {
        "colab": {
          "base_uri": "https://localhost:8080/",
          "height": 34
        },
        "id": "ad0ovRuu4ogO",
        "outputId": "b0497e7e-93c3-4dfc-ffa2-cdaff2523391"
      },
      "outputs": [
        {
          "output_type": "display_data",
          "data": {
            "text/html": [
              "23.7142857142857"
            ],
            "text/markdown": "23.7142857142857",
            "text/latex": "23.7142857142857",
            "text/plain": [
              "[1] 23.71429"
            ]
          },
          "metadata": {}
        }
      ],
      "source": [
        "# Q2.1 Part 2, Question 1\n",
        "23 + 5 / 7"
      ]
    },
    {
      "cell_type": "code",
      "source": [
        "#Q2.2 Part 2, Question 2\n",
        "(23 + 5) / 7"
      ],
      "metadata": {
        "colab": {
          "base_uri": "https://localhost:8080/",
          "height": 34
        },
        "id": "iNzIk-2847FZ",
        "outputId": "1c75e1b2-a35c-4530-fe9b-8d52f747fe36"
      },
      "execution_count": 32,
      "outputs": [
        {
          "output_type": "display_data",
          "data": {
            "text/html": [
              "4"
            ],
            "text/markdown": "4",
            "text/latex": "4",
            "text/plain": [
              "[1] 4"
            ]
          },
          "metadata": {}
        }
      ]
    },
    {
      "cell_type": "code",
      "source": [
        "# Q3.1 Part 3, Question 1\n",
        "object1 <- \"Hi Earth\"\n",
        "\n",
        "object1"
      ],
      "metadata": {
        "colab": {
          "base_uri": "https://localhost:8080/",
          "height": 34
        },
        "id": "F97QG8aU5Tna",
        "outputId": "145e32cf-04d9-4a19-f4d4-192f0959f432"
      },
      "execution_count": 33,
      "outputs": [
        {
          "output_type": "display_data",
          "data": {
            "text/html": [
              "'Hi Earth'"
            ],
            "text/markdown": "'Hi Earth'",
            "text/latex": "'Hi Earth'",
            "text/plain": [
              "[1] \"Hi Earth\""
            ]
          },
          "metadata": {}
        }
      ]
    },
    {
      "cell_type": "code",
      "source": [
        "# Q3.2 Part 3, Question 2\n",
        "myNumber <- 27\n",
        "myNumber <- \"Twenty-Seven\"\n",
        "\n",
        "myNumber"
      ],
      "metadata": {
        "colab": {
          "base_uri": "https://localhost:8080/",
          "height": 34
        },
        "id": "6BxmTjl952ok",
        "outputId": "5dd2efd0-cc42-4d57-c885-78015daa68c0"
      },
      "execution_count": null,
      "outputs": [
        {
          "output_type": "display_data",
          "data": {
            "text/html": [
              "'Twenty-Seven'"
            ],
            "text/markdown": "'Twenty-Seven'",
            "text/latex": "'Twenty-Seven'",
            "text/plain": [
              "[1] \"Twenty-Seven\""
            ]
          },
          "metadata": {}
        }
      ]
    },
    {
      "cell_type": "code",
      "source": [
        "# Q3.3 Part 3, Question 3\n",
        "thisIsALogical <- TRUE\n",
        "thisIsALogical\n",
        "ThisISALogical <- FALSE\n",
        "ThisISALogical\n",
        "thisisaLOGICAL <- NA\n",
        "thisisaLOGICAL"
      ],
      "metadata": {
        "colab": {
          "base_uri": "https://localhost:8080/",
          "height": 69
        },
        "id": "h9ZEsTIU6WTZ",
        "outputId": "e5a706f3-ba3c-4632-9ab7-6779a47e0246"
      },
      "execution_count": null,
      "outputs": [
        {
          "output_type": "display_data",
          "data": {
            "text/html": [
              "TRUE"
            ],
            "text/markdown": "TRUE",
            "text/latex": "TRUE",
            "text/plain": [
              "[1] TRUE"
            ]
          },
          "metadata": {}
        },
        {
          "output_type": "display_data",
          "data": {
            "text/html": [
              "FALSE"
            ],
            "text/markdown": "FALSE",
            "text/latex": "FALSE",
            "text/plain": [
              "[1] FALSE"
            ]
          },
          "metadata": {}
        },
        {
          "output_type": "display_data",
          "data": {
            "text/html": [
              "&lt;NA&gt;"
            ],
            "text/markdown": "&lt;NA&gt;",
            "text/latex": "<NA>",
            "text/plain": [
              "[1] NA"
            ]
          },
          "metadata": {}
        }
      ]
    },
    {
      "cell_type": "code",
      "source": [
        "# Q3.4 Part 3, Question 4\n",
        "Trial1 <- 5\n",
        "Trial1"
      ],
      "metadata": {
        "colab": {
          "base_uri": "https://localhost:8080/",
          "height": 34
        },
        "id": "2N1Dto0r6q_G",
        "outputId": "a4c651b6-4dfa-4fe9-c214-bd00cdcbfe02"
      },
      "execution_count": null,
      "outputs": [
        {
          "output_type": "display_data",
          "data": {
            "text/html": [
              "5"
            ],
            "text/markdown": "5",
            "text/latex": "5",
            "text/plain": [
              "[1] 5"
            ]
          },
          "metadata": {}
        }
      ]
    },
    {
      "cell_type": "code",
      "source": [
        "# Q3.4 Part 3, Question 4\n",
        "Trial.Two <- 5\n",
        "Trial.Two"
      ],
      "metadata": {
        "colab": {
          "base_uri": "https://localhost:8080/",
          "height": 34
        },
        "id": "NJyy9djt62Pa",
        "outputId": "2f7fc8d7-a3a8-412f-b145-889e311c9458"
      },
      "execution_count": null,
      "outputs": [
        {
          "output_type": "display_data",
          "data": {
            "text/html": [
              "5"
            ],
            "text/markdown": "5",
            "text/latex": "5",
            "text/plain": [
              "[1] 5"
            ]
          },
          "metadata": {}
        }
      ]
    },
    {
      "cell_type": "code",
      "source": [
        "# Q3.4 Part 3, Question 4\n",
        "1stPlace <- 5\n",
        "1stPlace"
      ],
      "metadata": {
        "colab": {
          "base_uri": "https://localhost:8080/",
          "height": 106
        },
        "id": "WW09TFbU66fi",
        "outputId": "4837604f-9225-4b69-ce78-5447846d240e"
      },
      "execution_count": null,
      "outputs": [
        {
          "output_type": "error",
          "ename": "ERROR",
          "evalue": "Error in parse(text = x, srcfile = src): <text>:1:2: unexpected symbol\n1: 1stPlace\n     ^\n",
          "traceback": [
            "Error in parse(text = x, srcfile = src): <text>:1:2: unexpected symbol\n1: 1stPlace\n     ^\nTraceback:\n"
          ]
        }
      ]
    },
    {
      "cell_type": "code",
      "source": [
        "# Q3.4 Part 3, Question 4\n",
        "Second Place <- 5\n",
        "Second Place"
      ],
      "metadata": {
        "colab": {
          "base_uri": "https://localhost:8080/",
          "height": 106
        },
        "id": "Wlyn1TV27Cpa",
        "outputId": "73e9d948-9501-4f7f-ff15-8320a143a330"
      },
      "execution_count": null,
      "outputs": [
        {
          "output_type": "error",
          "ename": "ERROR",
          "evalue": "Error in parse(text = x, srcfile = src): <text>:1:8: unexpected symbol\n1: Second Place\n           ^\n",
          "traceback": [
            "Error in parse(text = x, srcfile = src): <text>:1:8: unexpected symbol\n1: Second Place\n           ^\nTraceback:\n"
          ]
        }
      ]
    },
    {
      "cell_type": "code",
      "source": [
        "# Q3.4 Part 3, Question 4\n",
        "Third_Place <- 5\n",
        "Third_Place"
      ],
      "metadata": {
        "colab": {
          "base_uri": "https://localhost:8080/",
          "height": 34
        },
        "id": "LgSiTjlo7I7N",
        "outputId": "f0e8bdf2-a04c-4b86-e453-03188ffb14fc"
      },
      "execution_count": null,
      "outputs": [
        {
          "output_type": "display_data",
          "data": {
            "text/html": [
              "5"
            ],
            "text/markdown": "5",
            "text/latex": "5",
            "text/plain": [
              "[1] 5"
            ]
          },
          "metadata": {}
        }
      ]
    },
    {
      "cell_type": "code",
      "source": [
        "# Q3.4 Part 3, Question 4\n",
        "UVaisNumber1 <- 5\n",
        "UVaisNumber1"
      ],
      "metadata": {
        "colab": {
          "base_uri": "https://localhost:8080/",
          "height": 34
        },
        "id": "raZxbDFe7K0l",
        "outputId": "7ca57393-e3c8-4701-cb6b-8b63ca57c19f"
      },
      "execution_count": null,
      "outputs": [
        {
          "output_type": "display_data",
          "data": {
            "text/html": [
              "5"
            ],
            "text/markdown": "5",
            "text/latex": "5",
            "text/plain": [
              "[1] 5"
            ]
          },
          "metadata": {}
        }
      ]
    },
    {
      "cell_type": "code",
      "source": [
        "# Q3.4 Part 3, Question 4\n",
        "UVaisNumber1! <- 5\n",
        "UVaisNumber1!"
      ],
      "metadata": {
        "colab": {
          "base_uri": "https://localhost:8080/",
          "height": 106
        },
        "id": "DDCdU3Fg7LG0",
        "outputId": "3aadf86b-1982-4193-834c-0c319b862234"
      },
      "execution_count": null,
      "outputs": [
        {
          "output_type": "error",
          "ename": "ERROR",
          "evalue": "Error in parse(text = x, srcfile = src): <text>:1:13: unexpected '!'\n1: UVaisNumber1!\n                ^\n",
          "traceback": [
            "Error in parse(text = x, srcfile = src): <text>:1:13: unexpected '!'\n1: UVaisNumber1!\n                ^\nTraceback:\n"
          ]
        }
      ]
    },
    {
      "cell_type": "code",
      "source": [
        "# Q4.1 Part 4, Question 1\n",
        "x <- 27\n",
        "y <- 68\n",
        "\n",
        "27 * 68\n",
        "\n",
        "\n",
        "# Q4.2 Part 4, Question 2\n",
        "x * y"
      ],
      "metadata": {
        "colab": {
          "base_uri": "https://localhost:8080/",
          "height": 52
        },
        "id": "h5r5URh27LTD",
        "outputId": "b0a01f71-37ca-4707-cf7f-b2a95677b005"
      },
      "execution_count": 34,
      "outputs": [
        {
          "output_type": "display_data",
          "data": {
            "text/html": [
              "1836"
            ],
            "text/markdown": "1836",
            "text/latex": "1836",
            "text/plain": [
              "[1] 1836"
            ]
          },
          "metadata": {}
        },
        {
          "output_type": "display_data",
          "data": {
            "text/html": [
              "1836"
            ],
            "text/markdown": "1836",
            "text/latex": "1836",
            "text/plain": [
              "[1] 1836"
            ]
          },
          "metadata": {}
        }
      ]
    },
    {
      "cell_type": "code",
      "source": [
        "# Q5 Part 5\n",
        "((1 + 2) / 3 + 4 * 5"
      ],
      "metadata": {
        "colab": {
          "base_uri": "https://localhost:8080/",
          "height": 124
        },
        "id": "gOMm63X_8L93",
        "outputId": "15846820-4ec0-499d-ddf1-9c0083d0f8d8"
      },
      "execution_count": null,
      "outputs": [
        {
          "output_type": "error",
          "ename": "ERROR",
          "evalue": "Error in parse(text = x, srcfile = src): <text>:2:0: unexpected end of input\n1: ((1 + 2) / 3 + 4 * 5\n   ^\n",
          "traceback": [
            "Error in parse(text = x, srcfile = src): <text>:2:0: unexpected end of input\n1: ((1 + 2) / 3 + 4 * 5\n   ^\nTraceback:\n"
          ]
        }
      ]
    },
    {
      "cell_type": "code",
      "source": [
        "# Q5 Part 5\n",
        "((1 + 2) / 3 + 4) * 5"
      ],
      "metadata": {
        "colab": {
          "base_uri": "https://localhost:8080/",
          "height": 34
        },
        "id": "Yc8Vz18p8fOq",
        "outputId": "c5b7693f-d347-497b-8046-62903c0b7a87"
      },
      "execution_count": null,
      "outputs": [
        {
          "output_type": "display_data",
          "data": {
            "text/html": [
              "25"
            ],
            "text/markdown": "25",
            "text/latex": "25",
            "text/plain": [
              "[1] 25"
            ]
          },
          "metadata": {}
        }
      ]
    },
    {
      "cell_type": "code",
      "source": [
        "# Q6 Part 6\n",
        "?pt\n",
        "?qt"
      ],
      "metadata": {
        "id": "ygOegDdW8qDq"
      },
      "execution_count": null,
      "outputs": []
    },
    {
      "cell_type": "code",
      "source": [
        " # Q8.1 Part 8, Question 1\n",
        " getXKCD(552)"
      ],
      "metadata": {
        "colab": {
          "base_uri": "https://localhost:8080/",
          "height": 72
        },
        "id": "BdIWONrK-P9w",
        "outputId": "fc352625-7d40-4066-a612-ee58c883e7f5"
      },
      "execution_count": null,
      "outputs": [
        {
          "output_type": "error",
          "ename": "ERROR",
          "evalue": "Error in getXKCD(552): could not find function \"getXKCD\"\n",
          "traceback": [
            "Error in getXKCD(552): could not find function \"getXKCD\"\nTraceback:\n"
          ]
        }
      ]
    },
    {
      "cell_type": "code",
      "source": [
        "# Q8.2\n",
        "install.packages(\"RXKCD\")\n",
        "library(RXKCD)\n",
        "getXKCD(552)"
      ],
      "metadata": {
        "colab": {
          "base_uri": "https://localhost:8080/",
          "height": 1000
        },
        "id": "9JZ5gRaN-WRY",
        "outputId": "8e56bcc3-ecef-4901-9986-8c37e1c46249"
      },
      "execution_count": null,
      "outputs": [
        {
          "output_type": "display_data",
          "data": {
            "text/plain": [
              "$month\n",
              "[1] \"3\"\n",
              "\n",
              "$num\n",
              "[1] 552\n",
              "\n",
              "$link\n",
              "[1] \"\"\n",
              "\n",
              "$year\n",
              "[1] \"2009\"\n",
              "\n",
              "$news\n",
              "[1] \"\"\n",
              "\n",
              "$safe_title\n",
              "[1] \"Correlation\"\n",
              "\n",
              "$transcript\n",
              "[1] \"[[A man is talking to a woman]]\\nMan: I used to think correlation implied causation.\\nMan: Then I took a statistics class.  Now I don't.\\nWoman: Sounds like the class helped.\\nMan: Well, maybe.\\n{{Title text: Correlation doesn't imply causation, but it does waggle its eyebrows suggestively and gesture furtively while mouthing 'look over there'.}}\"\n",
              "\n",
              "$alt\n",
              "[1] \"Correlation doesn't imply causation, but it does waggle its eyebrows suggestively and gesture furtively while mouthing 'look over there'.\"\n",
              "\n",
              "$img\n",
              "[1] \"https://imgs.xkcd.com/comics/correlation.png\"\n",
              "\n",
              "$title\n",
              "[1] \"Correlation\"\n",
              "\n",
              "$day\n",
              "[1] \"6\"\n",
              "\n",
              "attr(,\"class\")\n",
              "[1] \"rxkcd\""
            ]
          },
          "metadata": {}
        },
        {
          "output_type": "display_data",
          "data": {
            "text/plain": [
              "plot without title"
            ],
            "image/png": "[encoded data removed]"
          },
          "metadata": {
            "image/png": {
              "width": 420,
              "height": 420
            }
          }
        }
      ]
    }
  ]
}